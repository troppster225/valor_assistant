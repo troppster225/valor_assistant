{
 "cells": [
  {
   "cell_type": "code",
   "execution_count": 1,
   "metadata": {},
   "outputs": [
    {
     "name": "stderr",
     "output_type": "stream",
     "text": [
      "2024-09-01 13:19:46.851 \n",
      "  \u001b[33m\u001b[1mWarning:\u001b[0m to view this Streamlit app on a browser, run it with the following\n",
      "  command:\n",
      "\n",
      "    streamlit run /Users/tommyropp/anaconda3/lib/python3.11/site-packages/ipykernel_launcher.py [ARGUMENTS]\n",
      "2024-09-01 13:19:46.852 Session state does not function when running a script without `streamlit run`\n"
     ]
    }
   ],
   "source": [
    "import streamlit as st\n",
    "import ollama\n",
    "\n",
    "def main():\n",
    "\n",
    "    st.title(\"Valor Assistant\")\n",
    "\n",
    "    if \"messages\" not in st.session_state:\n",
    "        st.session_state[\"messages\"] = [{\"role\": \"assistant\", \"content\": \"How can I help you?\"}]\n",
    "    for msg in st.session_state.messages:\n",
    "        if msg[\"role\"] == \"user\":\n",
    "            st.chat_message(msg[\"role\"], avatar=\"🧑‍💻\").write(msg[\"content\"])\n",
    "        else:\n",
    "            st.chat_message(msg[\"role\"], avatar=\"🤖\").write(msg[\"content\"])\n",
    "\n",
    "def generate_response():\n",
    "    response = ollama.chat(model='llama3', stream=True, messages=st.session_state.messages)\n",
    "    for partial_resp in response:\n",
    "        token = partial_resp[\"message\"][\"content\"]\n",
    "        st.session_state[\"full_message\"] += token\n",
    "        yield token\n",
    "if prompt := st.chat_input():\n",
    "    st.session_state.messages.append({\"role\": \"user\", \"content\": prompt})\n",
    "    st.chat_message(\"user\", avatar=\"🧑‍💻\").write(prompt)\n",
    "    st.session_state[\"full_message\"] = \"\"\n",
    "    st.chat_message(\"assistant\", avatar=\"🤖\").write_stream(generate_response)\n",
    "    st.session_state.messages.append({\"role\": \"assistant\", \"content\": st.session_state[\"full_message\"]})\n",
    "main()"
   ]
  },
  {
   "cell_type": "code",
   "execution_count": null,
   "metadata": {},
   "outputs": [],
   "source": [
    "import streamlit as st\n",
    "\n",
    "st.title(\"Valor Assistant\")\n",
    "\n",
    "st.file_uploader(\"Upload PDF\", type=\".pdf\", accept_multiple_files=True, \n",
    "                 key=None, help=None, on_change=None, args=None, kwargs=None, \n",
    "                 disabled=False, label_visibility=\"visible\")\n"
   ]
  }
 ],
 "metadata": {
  "kernelspec": {
   "display_name": "base",
   "language": "python",
   "name": "python3"
  },
  "language_info": {
   "codemirror_mode": {
    "name": "ipython",
    "version": 3
   },
   "file_extension": ".py",
   "mimetype": "text/x-python",
   "name": "python",
   "nbconvert_exporter": "python",
   "pygments_lexer": "ipython3",
   "version": "3.11.5"
  }
 },
 "nbformat": 4,
 "nbformat_minor": 2
}
